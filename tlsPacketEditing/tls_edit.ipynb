{
 "cells": [
  {
   "cell_type": "code",
   "execution_count": null,
   "id": "d1f70617-fc5b-4984-9cf2-29316ba95bd9",
   "metadata": {},
   "outputs": [],
   "source": [
    "#  jupyter notebook --ip=192.168.2.118 --no-browser --port=8080 --allow-root"
   ]
  },
  {
   "cell_type": "code",
   "execution_count": 1,
   "id": "4e151c3f-8278-4401-ab5f-74c9c6856dbe",
   "metadata": {},
   "outputs": [],
   "source": [
    "from scapy.all import *\n",
    "from scapy.layers.tls.all import *\n",
    "import os"
   ]
  },
  {
   "cell_type": "code",
   "execution_count": 2,
   "id": "bbb83bca-eedd-4490-b723-57559285a3fc",
   "metadata": {},
   "outputs": [
    {
     "name": "stdout",
     "output_type": "stream",
     "text": [
      "2.5.0\n"
     ]
    }
   ],
   "source": [
    "print(scapy.__version__)"
   ]
  },
  {
   "cell_type": "code",
   "execution_count": 6,
   "id": "14b81254-256a-4339-b42b-10a51b0321d9",
   "metadata": {},
   "outputs": [],
   "source": [
    "# load_layer('tls')\n",
    "\n",
    "# conf.tls_session_enable = True\n",
    "# conf.tls_nss_filename = 'SSLKEYLOGFILE'"
   ]
  },
  {
   "cell_type": "code",
   "execution_count": 7,
   "id": "1ae1b3fe-bca9-43b5-a00f-3b05f25a98a0",
   "metadata": {},
   "outputs": [],
   "source": [
    "pcap = rdpcap(\"ssl_test.pcap\")"
   ]
  },
  {
   "cell_type": "code",
   "execution_count": 8,
   "id": "ddf66c60-3746-4a84-8f28-04c7b12008ec",
   "metadata": {},
   "outputs": [
    {
     "name": "stdout",
     "output_type": "stream",
     "text": [
      "###[ Ethernet ]### \n",
      "  dst       = 44:6d:57:4b:ed:0b\n",
      "  src       = 00:80:48:49:11:64\n",
      "  type      = IPv4\n",
      "###[ IP ]### \n",
      "     version   = 4\n",
      "     ihl       = 5\n",
      "     tos       = 0x0\n",
      "     len       = 203\n",
      "     id        = 18185\n",
      "     flags     = DF\n",
      "     frag      = 0\n",
      "     ttl       = 128\n",
      "     proto     = tcp\n",
      "     chksum    = 0x2fcc\n",
      "     src       = 192.168.1.4\n",
      "     dst       = 192.168.1.3\n",
      "     \\options   \\\n",
      "###[ TCP ]### \n",
      "        sport     = 2061\n",
      "        dport     = https\n",
      "        seq       = 2908474314\n",
      "        ack       = 422420580\n",
      "        dataofs   = 5\n",
      "        reserved  = 0\n",
      "        flags     = PA\n",
      "        window    = 10164\n",
      "        chksum    = 0x1a6b\n",
      "        urgptr    = 0\n",
      "        options   = []\n",
      "###[ TLS ]### \n",
      "           type      = handshake\n",
      "           version   = TLS 1.0\n",
      "           len       = 158    [deciphered_len= 158]\n",
      "           iv        = b''\n",
      "           \\msg       \\\n",
      "            |###[ TLS Handshake - Client Hello ]### \n",
      "            |  msgtype   = client_hello\n",
      "            |  msglen    = 154\n",
      "            |  version   = TLS 1.0\n",
      "            |  gmt_unix_time= Sun, 21 Oct 2012 06:58:02 +0000 (1350802682)\n",
      "            |  random_bytes= fec110ae58d1edc2f2ffc51ec3c2e7ca65221bd4e672f432ecc87b19\n",
      "            |  sidlen    = 0\n",
      "            |  sid       = ''\n",
      "            |  cipherslen= 72\n",
      "            |  ciphers   = [TLS_EMPTY_RENEGOTIATION_INFO_SCSV, TLS_ECDHE_ECDSA_WITH_AES_256_CBC_SHA, TLS_ECDHE_RSA_WITH_AES_256_CBC_SHA, TLS_DHE_RSA_WITH_CAMELLIA_256_CBC_SHA, TLS_DHE_DSS_WITH_CAMELLIA_256_CBC_SHA, TLS_DHE_RSA_WITH_AES_256_CBC_SHA, TLS_DHE_DSS_WITH_AES_256_CBC_SHA, TLS_ECDH_RSA_WITH_AES_256_CBC_SHA, TLS_ECDH_ECDSA_WITH_AES_256_CBC_SHA, TLS_RSA_WITH_CAMELLIA_256_CBC_SHA, TLS_RSA_WITH_AES_256_CBC_SHA, TLS_ECDHE_ECDSA_WITH_RC4_128_SHA, TLS_ECDHE_ECDSA_WITH_AES_128_CBC_SHA, TLS_ECDHE_RSA_WITH_RC4_128_SHA, TLS_ECDHE_RSA_WITH_AES_128_CBC_SHA, TLS_DHE_RSA_WITH_CAMELLIA_128_CBC_SHA, TLS_DHE_DSS_WITH_CAMELLIA_128_CBC_SHA, TLS_DHE_RSA_WITH_AES_128_CBC_SHA, TLS_DHE_DSS_WITH_AES_128_CBC_SHA, TLS_ECDH_RSA_WITH_RC4_128_SHA, TLS_ECDH_RSA_WITH_AES_128_CBC_SHA, TLS_ECDH_ECDSA_WITH_RC4_128_SHA, TLS_ECDH_ECDSA_WITH_AES_128_CBC_SHA, TLS_RSA_WITH_SEED_CBC_SHA, TLS_RSA_WITH_CAMELLIA_128_CBC_SHA, TLS_RSA_WITH_RC4_128_MD5, TLS_RSA_WITH_RC4_128_SHA, TLS_RSA_WITH_AES_128_CBC_SHA, TLS_ECDHE_ECDSA_WITH_3DES_EDE_CBC_SHA, TLS_ECDHE_RSA_WITH_3DES_EDE_CBC_SHA, TLS_DHE_RSA_WITH_3DES_EDE_CBC_SHA, TLS_DHE_DSS_WITH_3DES_EDE_CBC_SHA, TLS_ECDH_RSA_WITH_3DES_EDE_CBC_SHA, TLS_ECDH_ECDSA_WITH_3DES_EDE_CBC_SHA, 0xfeff, TLS_RSA_WITH_3DES_EDE_CBC_SHA]\n",
      "            |  complen   = 1\n",
      "            |  comp      = null\n",
      "            |  extlen    = 41\n",
      "            |  \\ext       \\\n",
      "            |   |###[ TLS Extension - Server Name ]### \n",
      "            |   |  type      = server_name\n",
      "            |   |  len       = 15\n",
      "            |   |  servernameslen= 13\n",
      "            |   |  servernames= [b'bawmashbij']\n",
      "            |   |###[ TLS Extension - Supported Groups ]### \n",
      "            |   |  type      = supported_groups\n",
      "            |   |  len       = 8\n",
      "            |   |  groupslen = 6\n",
      "            |   |  groups    = [secp256r1, secp384r1, secp521r1]\n",
      "            |   |###[ TLS Extension - Supported Point Format ]### \n",
      "            |   |  type      = ec_point_formats\n",
      "            |   |  len       = 2\n",
      "            |   |  ecpllen   = 1\n",
      "            |   |  ecpl      = [uncompressed]\n",
      "            |   |###[ TLS Extension - Session Ticket ]### \n",
      "            |   |  type      = session_ticket\n",
      "            |   |  len       = 0\n",
      "            |   |  ticket    = ''\n",
      "           mac       = b''\n",
      "           pad       = b''\n",
      "           padlen    = None\n",
      "\n"
     ]
    }
   ],
   "source": [
    "pcap[0].show()"
   ]
  },
  {
   "cell_type": "markdown",
   "id": "b53e13e9-e591-45c3-9c36-5a63f98e75c2",
   "metadata": {},
   "source": [
    "## Edit SNI value to custom value"
   ]
  },
  {
   "cell_type": "code",
   "execution_count": 11,
   "id": "5b849110-26bb-47c4-9973-2e51cc7ca86b",
   "metadata": {},
   "outputs": [
    {
     "name": "stdout",
     "output_type": "stream",
     "text": [
      "length change =  9\n",
      "Modified pcap file saved as: ssl_test-customSni.pcap\n"
     ]
    }
   ],
   "source": [
    "pcap_file = \"ssl_test.pcap\"\n",
    "new_sni = 'fieabjfafitcaid.com'\n",
    "\n",
    "def rectifySeqAckNo(packets):\n",
    "    srcIp = packets[0][\"IP\"].src\n",
    "    dstIp = packets[0][\"IP\"].dst\n",
    "    seqNo = 0\n",
    "    ackNo = 0\n",
    "    currDir = 0\n",
    "    prevDir = 0\n",
    "    for packet in packets:\n",
    "        if(packet[\"IP\"].src == srcIp):\n",
    "            currDir = 0\n",
    "        else:\n",
    "            currDir = 1\n",
    "        if(currDir != prevDir):\n",
    "            seqNo,ackNo = ackNo,seqNo\n",
    "        packet[\"TCP\"].seq = seqNo\n",
    "        packet[\"TCP\"].ack = ackNo\n",
    "        seqNo+=len(packet[\"TCP\"].payload)\n",
    "        prevDir = currDir\n",
    "        del packet['TCP'].chksum\n",
    "\n",
    "def chnageSniValue(pcap_file, new_sni):\n",
    "    packets = rdpcap(pcap_file)  # Assuming there's only one packet in the pcap file\n",
    "    \n",
    "    packet = packets[0]\n",
    "    # Check if the packet contains TLS layer\n",
    "    if packet.haslayer(TLS):\n",
    "        # Find SNI extension\n",
    "        sni_extension = packet['TLS']['TLS_Ext_ServerName']\n",
    "        len_change = 0\n",
    "        if sni_extension:\n",
    "            # Modify SNI server name\n",
    "            old_sni = sni_extension.servernames[0].servername\n",
    "            old_sni_len = sni_extension.servernames[0].namelen\n",
    "            len_change = len(new_sni)-old_sni_len\n",
    "            print (\"length change = \",len_change)\n",
    "            sni_extension.servernames[0].servername = new_sni\n",
    "    \n",
    "            del sni_extension.servernames[0].namelen\n",
    "            del packet['TLS'][\"TLS Handshake - Client Hello\"][\"TLS Extension - Server Name\"].len\n",
    "            del packet['TLS'][\"TLS Handshake - Client Hello\"][\"TLS Extension - Server Name\"].servernameslen\n",
    "            del packet['TLS'][\"TLS Handshake - Client Hello\"].extlen\n",
    "            del packet['TLS'][\"TLS Handshake - Client Hello\"].msglen\n",
    "            del packet['TLS'].len\n",
    "            del packet['IP'].len\n",
    "    \n",
    "            rectifySeqAckNo(packets)\n",
    "            \n",
    "            # Write the modified packet to a new pcap file\n",
    "            new_pcap_file = pcap_file.replace('.pcap', '-customSni.pcap')\n",
    "            wrpcap(new_pcap_file, packets)\n",
    "            os.chmod(new_pcap_file, 0o777)\n",
    "            print(f\"Modified pcap file saved as: {new_pcap_file}\")\n",
    "\n",
    "chnageSniValue(pcap_file, new_sni)"
   ]
  },
  {
   "cell_type": "markdown",
   "id": "1ede9464-1d12-4eba-9290-83d0e21ddb5d",
   "metadata": {},
   "source": [
    "## Add multiple SNI value"
   ]
  },
  {
   "cell_type": "code",
   "execution_count": 10,
   "id": "84b6e50c-8a60-4885-8957-6ccbbd422a8e",
   "metadata": {},
   "outputs": [
    {
     "name": "stdout",
     "output_type": "stream",
     "text": [
      "length change =  5\n",
      "Modified pcap file saved as: ssl_test-multipleSni.pcap\n",
      "###[ Ethernet ]### \n",
      "  dst       = 44:6d:57:4b:ed:0b\n",
      "  src       = 00:80:48:49:11:64\n",
      "  type      = IPv4\n",
      "###[ IP ]### \n",
      "     version   = 4\n",
      "     ihl       = 5\n",
      "     tos       = 0x0\n",
      "     len       = None\n",
      "     id        = 18185\n",
      "     flags     = DF\n",
      "     frag      = 0\n",
      "     ttl       = 128\n",
      "     proto     = tcp\n",
      "     chksum    = 0x2fcc\n",
      "     src       = 192.168.1.4\n",
      "     dst       = 192.168.1.3\n",
      "     \\options   \\\n",
      "###[ TCP ]### \n",
      "        sport     = 2061\n",
      "        dport     = https\n",
      "        seq       = 0\n",
      "        ack       = 0\n",
      "        dataofs   = 5\n",
      "        reserved  = 0\n",
      "        flags     = PA\n",
      "        window    = 10164\n",
      "        chksum    = None\n",
      "        urgptr    = 0\n",
      "        options   = []\n",
      "###[ TLS ]### \n",
      "           type      = handshake\n",
      "           version   = TLS 1.0\n",
      "           len       = None    [deciphered_len= 158]\n",
      "           iv        = b''\n",
      "           \\msg       \\\n",
      "            |###[ TLS Handshake - Client Hello ]### \n",
      "            |  msgtype   = client_hello\n",
      "            |  msglen    = None\n",
      "            |  version   = TLS 1.0\n",
      "            |  gmt_unix_time= Sun, 21 Oct 2012 06:58:02 +0000 (1350802682)\n",
      "            |  random_bytes= fec110ae58d1edc2f2ffc51ec3c2e7ca65221bd4e672f432ecc87b19\n",
      "            |  sidlen    = 0\n",
      "            |  sid       = ''\n",
      "            |  cipherslen= 72\n",
      "            |  ciphers   = [TLS_EMPTY_RENEGOTIATION_INFO_SCSV, TLS_ECDHE_ECDSA_WITH_AES_256_CBC_SHA, TLS_ECDHE_RSA_WITH_AES_256_CBC_SHA, TLS_DHE_RSA_WITH_CAMELLIA_256_CBC_SHA, TLS_DHE_DSS_WITH_CAMELLIA_256_CBC_SHA, TLS_DHE_RSA_WITH_AES_256_CBC_SHA, TLS_DHE_DSS_WITH_AES_256_CBC_SHA, TLS_ECDH_RSA_WITH_AES_256_CBC_SHA, TLS_ECDH_ECDSA_WITH_AES_256_CBC_SHA, TLS_RSA_WITH_CAMELLIA_256_CBC_SHA, TLS_RSA_WITH_AES_256_CBC_SHA, TLS_ECDHE_ECDSA_WITH_RC4_128_SHA, TLS_ECDHE_ECDSA_WITH_AES_128_CBC_SHA, TLS_ECDHE_RSA_WITH_RC4_128_SHA, TLS_ECDHE_RSA_WITH_AES_128_CBC_SHA, TLS_DHE_RSA_WITH_CAMELLIA_128_CBC_SHA, TLS_DHE_DSS_WITH_CAMELLIA_128_CBC_SHA, TLS_DHE_RSA_WITH_AES_128_CBC_SHA, TLS_DHE_DSS_WITH_AES_128_CBC_SHA, TLS_ECDH_RSA_WITH_RC4_128_SHA, TLS_ECDH_RSA_WITH_AES_128_CBC_SHA, TLS_ECDH_ECDSA_WITH_RC4_128_SHA, TLS_ECDH_ECDSA_WITH_AES_128_CBC_SHA, TLS_RSA_WITH_SEED_CBC_SHA, TLS_RSA_WITH_CAMELLIA_128_CBC_SHA, TLS_RSA_WITH_RC4_128_MD5, TLS_RSA_WITH_RC4_128_SHA, TLS_RSA_WITH_AES_128_CBC_SHA, TLS_ECDHE_ECDSA_WITH_3DES_EDE_CBC_SHA, TLS_ECDHE_RSA_WITH_3DES_EDE_CBC_SHA, TLS_DHE_RSA_WITH_3DES_EDE_CBC_SHA, TLS_DHE_DSS_WITH_3DES_EDE_CBC_SHA, TLS_ECDH_RSA_WITH_3DES_EDE_CBC_SHA, TLS_ECDH_ECDSA_WITH_3DES_EDE_CBC_SHA, 0xfeff, TLS_RSA_WITH_3DES_EDE_CBC_SHA]\n",
      "            |  complen   = 1\n",
      "            |  comp      = null\n",
      "            |  extlen    = None\n",
      "            |  \\ext       \\\n",
      "            |   |###[ TLS Extension - Server Name ]### \n",
      "            |   |  type      = server_name\n",
      "            |   |  len       = None\n",
      "            |   |  servernameslen= None\n",
      "            |   |  servernames= [b'bawmashbij', b'multiplesni.com']\n",
      "            |   |###[ TLS Extension - Supported Groups ]### \n",
      "            |   |  type      = supported_groups\n",
      "            |   |  len       = 8\n",
      "            |   |  groupslen = 6\n",
      "            |   |  groups    = [secp256r1, secp384r1, secp521r1]\n",
      "            |   |###[ TLS Extension - Supported Point Format ]### \n",
      "            |   |  type      = ec_point_formats\n",
      "            |   |  len       = 2\n",
      "            |   |  ecpllen   = 1\n",
      "            |   |  ecpl      = [uncompressed]\n",
      "            |   |###[ TLS Extension - Session Ticket ]### \n",
      "            |   |  type      = session_ticket\n",
      "            |   |  len       = 0\n",
      "            |   |  ticket    = ''\n",
      "           mac       = b''\n",
      "           pad       = b''\n",
      "           padlen    = None\n",
      "\n"
     ]
    }
   ],
   "source": [
    "pcap_file = \"ssl_test.pcap\"\n",
    "serverNameStr = 'multiplesni.com'\n",
    "\n",
    "def rectifySeqAckNo(packets):\n",
    "    srcIp = packets[0][\"IP\"].src\n",
    "    dstIp = packets[0][\"IP\"].dst\n",
    "    seqNo = 0\n",
    "    ackNo = 0\n",
    "    currDir = 0\n",
    "    prevDir = 0\n",
    "    for packet in packets:\n",
    "        if(packet[\"IP\"].src == srcIp):\n",
    "            currDir = 0\n",
    "        else:\n",
    "            currDir = 1\n",
    "        if(currDir != prevDir):\n",
    "            seqNo,ackNo = ackNo,seqNo\n",
    "        packet[\"TCP\"].seq = seqNo\n",
    "        packet[\"TCP\"].ack = ackNo\n",
    "        seqNo+=len(packet[\"TCP\"].payload)\n",
    "        prevDir = currDir\n",
    "        del packet['TCP'].chksum\n",
    "        \n",
    "def multipleSniValue(pcap_file, new_sni):\n",
    "    packets = rdpcap(pcap_file)  # Assuming there's only one packet in the pcap file\n",
    "    packet = packets[0]\n",
    "    # Check if the packet contains TLS layer\n",
    "    if packet.haslayer(TLS):\n",
    "        # Find SNI extension\n",
    "        sni_extension = packet['TLS']['TLS_Ext_ServerName']\n",
    "        len_change = 0\n",
    "        if sni_extension:\n",
    "            # Modify SNI server name\n",
    "            old_sni = sni_extension.servernames[0].servername\n",
    "            old_sni_len = sni_extension.servernames[0].namelen\n",
    "            len_change = len(new_sni)-old_sni_len\n",
    "            print (\"length change = \",len_change)\n",
    "            # sni_extension.servernames[0].servername = new_sni\n",
    "\n",
    "            # Append SNI\n",
    "            servernameLen = len(serverNameStr)\n",
    "            # Convert integer to bytes\n",
    "            byte_literal = servernameLen.to_bytes(2, byteorder='big')\n",
    "            packets[0]['TLS'][\"TLS Handshake - Client Hello\"][\"TLS Extension - Server Name\"].servernames.append(ServerName(b\"\\x00\"+byte_literal+serverNameStr.encode('utf-8')))\n",
    "    \n",
    "            del sni_extension.servernames[0].namelen\n",
    "            del packet['TLS'][\"TLS Handshake - Client Hello\"][\"TLS Extension - Server Name\"].len\n",
    "            del packet['TLS'][\"TLS Handshake - Client Hello\"][\"TLS Extension - Server Name\"].servernameslen\n",
    "            del packet['TLS'][\"TLS Handshake - Client Hello\"].extlen\n",
    "            del packet['TLS'][\"TLS Handshake - Client Hello\"].msglen\n",
    "            del packet['TLS'].len\n",
    "            del packet['IP'].len\n",
    "\n",
    "            rectifySeqAckNo(packets)\n",
    "            # Write the modified packet to a new pcap file\n",
    "            new_pcap_file = pcap_file.replace('.pcap', '-multipleSni.pcap')\n",
    "            wrpcap(new_pcap_file, packets)\n",
    "            os.chmod(new_pcap_file, 0o777)\n",
    "            print(f\"Modified pcap file saved as: {new_pcap_file}\")\n",
    "            # packets[0].show()\n",
    "multipleSniValue(pcap_file, serverNameStr)"
   ]
  },
  {
   "cell_type": "code",
   "execution_count": 9,
   "id": "d287f8f8-c4b5-4374-a664-4743117087a5",
   "metadata": {},
   "outputs": [
    {
     "name": "stdout",
     "output_type": "stream",
     "text": [
      "0-0=163\n",
      "163-0=830\n",
      "830-163=186\n",
      "349-830=238\n",
      "1068-349=27\n",
      "1068-376=163\n",
      "539-1068=830\n",
      "1898-539=186\n",
      "725-1898=238\n",
      "2136-725=27\n",
      "2136-752=163\n",
      "915-2136=830\n",
      "2966-915=186\n",
      "1101-2966=238\n",
      "3204-1101=310\n",
      "1411-3204=273\n",
      "3477-1411=27\n",
      "3477-1438=371\n",
      "1809-3477=133\n",
      "3610-1809=338\n",
      "2147-3610=307\n",
      "3917-2147=27\n",
      "3917-2174=371\n",
      "2545-3917=133\n",
      "4050-2545=368\n",
      "2913-4050=307\n",
      "4357-2913=27\n",
      "4357-2940=371\n",
      "3311-4357=133\n",
      "4490-3311=368\n",
      "3679-4490=1460\n",
      "3679-5950=1460\n",
      "3679-7410=1460\n",
      "3679-8870=1460\n",
      "3679-10330=1460\n",
      "3679-11790=1460\n",
      "3679-13250=1460\n",
      "3679-14710=1283\n",
      "15993-3679=27\n",
      "15993-3706=371\n",
      "4077-15993=133\n",
      "16126-4077=511\n",
      "4588-16126=593\n",
      "16719-4588=27\n",
      "16719-4615=371\n",
      "4986-16719=133\n",
      "16852-4986=787\n",
      "5773-16852=1135\n",
      "17987-5773=27\n"
     ]
    }
   ],
   "source": [
    "def rectifySeqAckNo(packets):\n",
    "    srcIp = packets[0][\"IP\"].src\n",
    "    dstIp = packets[0][\"IP\"].dst\n",
    "    seqNo = 0\n",
    "    ackNo = 0\n",
    "    currDir = 0\n",
    "    prevDir = 0\n",
    "    for packet in packets:\n",
    "        if(packet[\"IP\"].src == srcIp):\n",
    "            currDir = 0\n",
    "        else:\n",
    "            currDir = 1\n",
    "        if(currDir != prevDir):\n",
    "            seqNo,ackNo = ackNo,seqNo\n",
    "        packet[\"TCP\"].seq = seqNo\n",
    "        packet[\"TCP\"].ack = ackNo\n",
    "        seqNo+=len(packet[\"TCP\"].payload)\n",
    "        prevDir = currDir\n",
    "        del packet['TCP'].chksum\n",
    "        # print(str(packet[\"TCP\"].ack)+\"-\"+str(packet[\"TCP\"].seq)+\"=\"+str(len(packet[\"TCP\"].payload)))\n",
    "\n",
    "\n",
    "packets = rdpcap(\"ssl_test.pcap\")\n",
    "rectifySeqAckNo(packets)"
   ]
  },
  {
   "cell_type": "code",
   "execution_count": 68,
   "id": "86093d1c-bea1-4a98-a7d8-54e587c3e7c5",
   "metadata": {},
   "outputs": [
    {
     "name": "stdout",
     "output_type": "stream",
     "text": [
      "b'\\x00\\x14'\n"
     ]
    }
   ],
   "source": [
    "integer_value = 20\n",
    "num_bytes = 2  # Number of bytes to represent the integer\n",
    "\n",
    "# Convert integer to bytes\n",
    "byte_literal = integer_value.to_bytes(num_bytes, byteorder='big')\n",
    "\n",
    "print(byte_literal)"
   ]
  },
  {
   "cell_type": "code",
   "execution_count": 62,
   "id": "2b03384b-a08a-4d7b-9c0d-e9bc44123a8a",
   "metadata": {},
   "outputs": [],
   "source": [
    "pcap[0]['TLS'][\"TLS Handshake - Client Hello\"][\"TLS Extension - Server Name\"].servernames.append(snicpy)"
   ]
  },
  {
   "cell_type": "code",
   "execution_count": 63,
   "id": "0c8e7921-2568-41ed-909b-50b84c3c4804",
   "metadata": {},
   "outputs": [
    {
     "data": {
      "text/plain": [
       "[<ServerName  nametype=host_name namelen=10 servername='bawmashbij' |>,\n",
       " <ServerName  nametype=host_name namelen=10 servername='bawmashbij' |>]"
      ]
     },
     "execution_count": 63,
     "metadata": {},
     "output_type": "execute_result"
    }
   ],
   "source": [
    "pcap[0]['TLS'][\"TLS Handshake - Client Hello\"][\"TLS Extension - Server Name\"].servernames"
   ]
  },
  {
   "cell_type": "code",
   "execution_count": 16,
   "id": "f337eed2-2cd6-4b77-9d0a-f834f02bb596",
   "metadata": {},
   "outputs": [
    {
     "data": {
      "text/plain": [
       "<TLS_Ext_ServerName  type=server_name len=24 servernameslen=22 servernames=[b'fieabjfafitcaid.com'] |>"
      ]
     },
     "execution_count": 16,
     "metadata": {},
     "output_type": "execute_result"
    }
   ],
   "source": [
    "packet['TLS'][\"TLS Handshake - Client Hello\"][\"TLS Extension - Server Name\"].len+=len_change\n",
    "packet['TLS'][\"TLS Handshake - Client Hello\"][\"TLS Extension - Server Name\"].servernameslen+=len_change\n",
    "packet['TLS'][\"TLS Handshake - Client Hello\"][\"TLS Extension - Server Name\"]"
   ]
  },
  {
   "cell_type": "code",
   "execution_count": 14,
   "id": "019e9f95-0856-4205-9403-fdda30ea7259",
   "metadata": {},
   "outputs": [
    {
     "data": {
      "text/plain": [
       "9"
      ]
     },
     "execution_count": 14,
     "metadata": {},
     "output_type": "execute_result"
    }
   ],
   "source": [
    "len_change"
   ]
  },
  {
   "cell_type": "code",
   "execution_count": null,
   "id": "e90b7a43-7eab-41cb-898c-6476ba14aaa2",
   "metadata": {},
   "outputs": [],
   "source": [
    "<TLS_Ext_ServerName  type=server_name len=15 servernameslen=13 servernames=[b'fieabjfafitcaid.com'] |>"
   ]
  }
 ],
 "metadata": {
  "kernelspec": {
   "display_name": "Python 3 (ipykernel)",
   "language": "python",
   "name": "python3"
  },
  "language_info": {
   "codemirror_mode": {
    "name": "ipython",
    "version": 3
   },
   "file_extension": ".py",
   "mimetype": "text/x-python",
   "name": "python",
   "nbconvert_exporter": "python",
   "pygments_lexer": "ipython3",
   "version": "3.9.2"
  }
 },
 "nbformat": 4,
 "nbformat_minor": 5
}
